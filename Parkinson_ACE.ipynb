{
  "nbformat": 4,
  "nbformat_minor": 0,
  "metadata": {
    "colab": {
      "name": "Parkinson ACE",
      "provenance": [],
      "authorship_tag": "ABX9TyP6uyuwsxad5CHy61Nr1D1k",
      "include_colab_link": true
    },
    "kernelspec": {
      "name": "python3",
      "display_name": "Python 3"
    },
    "language_info": {
      "name": "python"
    }
  },
  "cells": [
    {
      "cell_type": "markdown",
      "metadata": {
        "id": "view-in-github",
        "colab_type": "text"
      },
      "source": [
        "<a href=\"https://colab.research.google.com/github/shaunak-dave/Portfolio/blob/main/Parkinson_ACE.ipynb\" target=\"_parent\"><img src=\"https://colab.research.google.com/assets/colab-badge.svg\" alt=\"Open In Colab\"/></a>"
      ]
    },
    {
      "cell_type": "code",
      "metadata": {
        "id": "OWTRisHgUSjr"
      },
      "source": [
        "import os\n",
        "import glob\n",
        "import numpy as np\n",
        "import cv2\n",
        "import matplotlib.pyplot as plt\n",
        "import random"
      ],
      "execution_count": 1,
      "outputs": []
    },
    {
      "cell_type": "code",
      "metadata": {
        "colab": {
          "base_uri": "https://localhost:8080/"
        },
        "id": "icOUYx8dUbD4",
        "outputId": "2b36d526-ee9b-4c7f-9cb9-2bb56d50fadf"
      },
      "source": [
        "from google.colab import drive\n",
        "drive.mount('/content/gdrive')"
      ],
      "execution_count": 2,
      "outputs": [
        {
          "output_type": "stream",
          "name": "stdout",
          "text": [
            "Drive already mounted at /content/gdrive; to attempt to forcibly remount, call drive.mount(\"/content/gdrive\", force_remount=True).\n"
          ]
        }
      ]
    },
    {
      "cell_type": "code",
      "metadata": {
        "colab": {
          "base_uri": "https://localhost:8080/"
        },
        "id": "YatzNIljUlEF",
        "outputId": "906850b6-c233-4de5-960f-cecaca3bf3e7"
      },
      "source": [
        "print(os.listdir(\"/content/gdrive/MyDrive/SEM5/Soft Computing/J-Component/spiral\"))"
      ],
      "execution_count": 3,
      "outputs": [
        {
          "output_type": "stream",
          "name": "stdout",
          "text": [
            "['training', 'testing']\n"
          ]
        }
      ]
    },
    {
      "cell_type": "code",
      "metadata": {
        "id": "S-1lWFO4U76l"
      },
      "source": [
        "directory='/content/gdrive/MyDrive/SEM5/Soft Computing/J-Component/spiral/training'\n",
        "category=['healthy','parkinson']\n",
        "spiral_train_data=[]\n",
        "spiral_train_labels= [] \n",
        "for i in category:\n",
        "  folder=os.path.join(directory,i)\n",
        "  label=category.index(i)\n",
        "  for img in os.listdir(folder):\n",
        "    img_path=os.path.join(folder,img)\n",
        "    imgarr=cv2.imread(img_path)\n",
        "    imgarr=cv2.resize(imgarr,(128,128))\n",
        "    spiral_train_data.append(imgarr)\n",
        "    spiral_train_labels.append(label)\n",
        "\n",
        "\n",
        "\n",
        "directory='/content/gdrive/MyDrive/SEM5/Soft Computing/J-Component/spiral/testing'\n",
        "category=['healthy','parkinson']\n",
        "spiral_test_data=[]\n",
        "spiral_test_labels = [] \n",
        "for i in category:\n",
        "  folder=os.path.join(directory,i)\n",
        "  label=category.index(i)\n",
        "  for img in os.listdir(folder):\n",
        "    img_path=os.path.join(folder,img)\n",
        "    imgarr=cv2.imread(img_path)\n",
        "    imgarr=cv2.resize(imgarr,(128,128))\n",
        "    spiral_test_data.append(imgarr)\n",
        "    spiral_test_labels.append(label)"
      ],
      "execution_count": 4,
      "outputs": []
    },
    {
      "cell_type": "code",
      "metadata": {
        "id": "dU6EZnVSVNVj"
      },
      "source": [
        "directory='/content/gdrive/MyDrive/SEM5/Soft Computing/J-Component/wave/training'\n",
        "category=['healthy','parkinson']\n",
        "wave_train_data=[]\n",
        "wave_train_labels = [] \n",
        "for i in category:\n",
        "  folder=os.path.join(directory,i)\n",
        "  label=category.index(i)\n",
        "  for img in os.listdir(folder):\n",
        "    img_path=os.path.join(folder,img)\n",
        "    imgarr=cv2.imread(img_path)\n",
        "    imgarr=cv2.resize(imgarr,(128,128))\n",
        "    wave_train_data.append(imgarr)\n",
        "    wave_train_labels.append(label)\n",
        "\n",
        "\n",
        "\n",
        "directory='/content/gdrive/MyDrive/SEM5/Soft Computing/J-Component/wave/testing'\n",
        "category=['healthy','parkinson']\n",
        "wave_test_data=[]\n",
        "wave_test_labels = [] \n",
        "for i in category:\n",
        "  folder=os.path.join(directory,i)\n",
        "  label=category.index(i)\n",
        "  for img in os.listdir(folder):\n",
        "    img_path=os.path.join(folder,img)\n",
        "    imgarr=cv2.imread(img_path)\n",
        "    imgarr=cv2.resize(imgarr,(128,128))\n",
        "    wave_test_data.append(imgarr)\n",
        "    wave_test_labels.append(label)"
      ],
      "execution_count": 5,
      "outputs": []
    },
    {
      "cell_type": "code",
      "metadata": {
        "id": "CU3p72ofVNg9"
      },
      "source": [
        "spiral_test_data=np.array(spiral_test_data)\n",
        "spiral_test_labels=np.array(spiral_test_labels)\n",
        "spiral_train_data=np.array(spiral_train_data)\n",
        "spiral_train_labels=np.array(spiral_train_labels)\n",
        "\n",
        "wave_test_data=np.array(wave_test_data)\n",
        "wave_test_labels=np.array(wave_test_labels)\n",
        "wave_train_data=np.array(wave_train_data)\n",
        "wave_train_labels=np.array(wave_train_labels)"
      ],
      "execution_count": 6,
      "outputs": []
    },
    {
      "cell_type": "code",
      "metadata": {
        "id": "VzlRKIEPVNi0"
      },
      "source": [
        "spiral_train_data,spiral_test_data=spiral_train_data/255.0,spiral_test_data/255.0\n",
        "\n",
        "wave_train_data,wave_test_data=wave_train_data/255.0,wave_test_data/255.0"
      ],
      "execution_count": 7,
      "outputs": []
    },
    {
      "cell_type": "code",
      "metadata": {
        "id": "--qmTMB7Vyr2"
      },
      "source": [
        "from tensorflow.keras.utils import to_categorical\n",
        "spiral_train_labels_one_hot = to_categorical(spiral_train_labels)\n",
        "spiral_test_labels_one_hot = to_categorical(spiral_test_labels)\n",
        "\n",
        "wave_train_labels_one_hot = to_categorical(wave_train_labels)\n",
        "wave_test_labels_one_hot = to_categorical(wave_test_labels)"
      ],
      "execution_count": 8,
      "outputs": []
    },
    {
      "cell_type": "markdown",
      "metadata": {
        "id": "EdJNH5-FV-GK"
      },
      "source": [
        "# **Spiral Model**"
      ]
    },
    {
      "cell_type": "code",
      "metadata": {
        "id": "1QYgo_RjVy7y"
      },
      "source": [
        "from keras.layers import Dense, Flatten, Conv2D, MaxPooling2D\n",
        "from keras.models import Model, Sequential\n",
        "\n",
        "spiral_extractor = Sequential([\n",
        "Conv2D(32, (3,3), activation = 'relu', input_shape = (128,128,3)),\n",
        "Conv2D(32, (3,3), activation = 'relu'),\n",
        "MaxPooling2D(pool_size=(2,2)),\n",
        "Conv2D(64,(3,3), activation = 'relu'),\n",
        "Conv2D(64, (3,3), activation = 'relu'),\n",
        "MaxPooling2D(pool_size=(2,2)),\n",
        "Flatten()\n",
        "])"
      ],
      "execution_count": 9,
      "outputs": []
    },
    {
      "cell_type": "code",
      "metadata": {
        "id": "8hWQGyihVzFO"
      },
      "source": [
        "# Add dense layers for prediction\n",
        "x = spiral_extractor.output  \n",
        "x = Dense(128, activation = 'relu', kernel_initializer = 'he_uniform')(x)\n",
        "prediction_layer = Dense(2, activation = 'softmax')(x)"
      ],
      "execution_count": 10,
      "outputs": []
    },
    {
      "cell_type": "code",
      "metadata": {
        "id": "rgVUHX06WF77"
      },
      "source": [
        "# Now we combine the feature extractor and CNN for classification\n",
        "cnn_model = Model(inputs=spiral_extractor.input, outputs=prediction_layer)\n",
        "cnn_model.compile(optimizer='adam',loss = 'binary_crossentropy', metrics = ['accuracy'])\n"
      ],
      "execution_count": 11,
      "outputs": []
    },
    {
      "cell_type": "code",
      "metadata": {
        "colab": {
          "base_uri": "https://localhost:8080/"
        },
        "id": "6Uyei_H8WF9-",
        "outputId": "8796b741-fb9a-4aca-b617-1ec8c2642c9b"
      },
      "source": [
        "history = cnn_model.fit(spiral_train_data, spiral_train_labels_one_hot, epochs=25, validation_data = (spiral_test_data,spiral_test_labels_one_hot))"
      ],
      "execution_count": 12,
      "outputs": [
        {
          "output_type": "stream",
          "name": "stdout",
          "text": [
            "Epoch 1/25\n",
            "4/4 [==============================] - 9s 2s/step - loss: 1.0904 - accuracy: 0.4206 - val_loss: 0.7051 - val_accuracy: 0.5000\n",
            "Epoch 2/25\n",
            "4/4 [==============================] - 7s 2s/step - loss: 0.7008 - accuracy: 0.4860 - val_loss: 0.6970 - val_accuracy: 0.5000\n",
            "Epoch 3/25\n",
            "4/4 [==============================] - 7s 2s/step - loss: 0.7093 - accuracy: 0.5234 - val_loss: 0.6946 - val_accuracy: 0.5000\n",
            "Epoch 4/25\n",
            "4/4 [==============================] - 7s 2s/step - loss: 0.6974 - accuracy: 0.5234 - val_loss: 0.6931 - val_accuracy: 0.5000\n",
            "Epoch 5/25\n",
            "4/4 [==============================] - 7s 2s/step - loss: 0.6927 - accuracy: 0.5234 - val_loss: 0.6930 - val_accuracy: 0.5000\n",
            "Epoch 6/25\n",
            "4/4 [==============================] - 7s 2s/step - loss: 0.6926 - accuracy: 0.5421 - val_loss: 0.6932 - val_accuracy: 0.5333\n",
            "Epoch 7/25\n",
            "4/4 [==============================] - 7s 2s/step - loss: 0.6910 - accuracy: 0.5981 - val_loss: 0.6955 - val_accuracy: 0.5000\n",
            "Epoch 8/25\n",
            "4/4 [==============================] - 7s 2s/step - loss: 0.6917 - accuracy: 0.4860 - val_loss: 0.6936 - val_accuracy: 0.5000\n",
            "Epoch 9/25\n",
            "4/4 [==============================] - 7s 2s/step - loss: 0.6913 - accuracy: 0.4953 - val_loss: 0.6915 - val_accuracy: 0.5000\n",
            "Epoch 10/25\n",
            "4/4 [==============================] - 7s 2s/step - loss: 0.6843 - accuracy: 0.5327 - val_loss: 0.6889 - val_accuracy: 0.5000\n",
            "Epoch 11/25\n",
            "4/4 [==============================] - 7s 2s/step - loss: 0.6899 - accuracy: 0.5047 - val_loss: 0.6853 - val_accuracy: 0.7000\n",
            "Epoch 12/25\n",
            "4/4 [==============================] - 7s 2s/step - loss: 0.6733 - accuracy: 0.7570 - val_loss: 0.6753 - val_accuracy: 0.6333\n",
            "Epoch 13/25\n",
            "4/4 [==============================] - 7s 2s/step - loss: 0.6578 - accuracy: 0.6729 - val_loss: 0.6717 - val_accuracy: 0.5333\n",
            "Epoch 14/25\n",
            "4/4 [==============================] - 7s 2s/step - loss: 0.6464 - accuracy: 0.5981 - val_loss: 0.6454 - val_accuracy: 0.6333\n",
            "Epoch 15/25\n",
            "4/4 [==============================] - 7s 2s/step - loss: 0.5909 - accuracy: 0.7570 - val_loss: 0.6392 - val_accuracy: 0.6333\n",
            "Epoch 16/25\n",
            "4/4 [==============================] - 7s 2s/step - loss: 0.5304 - accuracy: 0.7850 - val_loss: 0.5649 - val_accuracy: 0.7000\n",
            "Epoch 17/25\n",
            "4/4 [==============================] - 7s 2s/step - loss: 0.4857 - accuracy: 0.7850 - val_loss: 0.5110 - val_accuracy: 0.6667\n",
            "Epoch 18/25\n",
            "4/4 [==============================] - 7s 2s/step - loss: 0.4291 - accuracy: 0.8224 - val_loss: 0.8254 - val_accuracy: 0.5667\n",
            "Epoch 19/25\n",
            "4/4 [==============================] - 7s 2s/step - loss: 0.5087 - accuracy: 0.7196 - val_loss: 0.5589 - val_accuracy: 0.7000\n",
            "Epoch 20/25\n",
            "4/4 [==============================] - 7s 2s/step - loss: 0.4139 - accuracy: 0.8598 - val_loss: 0.5580 - val_accuracy: 0.9000\n",
            "Epoch 21/25\n",
            "4/4 [==============================] - 7s 2s/step - loss: 0.5352 - accuracy: 0.7757 - val_loss: 0.6142 - val_accuracy: 0.8000\n",
            "Epoch 22/25\n",
            "4/4 [==============================] - 7s 2s/step - loss: 0.6049 - accuracy: 0.7290 - val_loss: 0.6072 - val_accuracy: 0.6333\n",
            "Epoch 23/25\n",
            "4/4 [==============================] - 7s 2s/step - loss: 0.5864 - accuracy: 0.7009 - val_loss: 0.5418 - val_accuracy: 0.8333\n",
            "Epoch 24/25\n",
            "4/4 [==============================] - 7s 2s/step - loss: 0.4096 - accuracy: 0.8972 - val_loss: 0.4642 - val_accuracy: 0.8000\n",
            "Epoch 25/25\n",
            "4/4 [==============================] - 7s 2s/step - loss: 0.3865 - accuracy: 0.8879 - val_loss: 0.3630 - val_accuracy: 0.8333\n"
          ]
        }
      ]
    },
    {
      "cell_type": "code",
      "metadata": {
        "colab": {
          "base_uri": "https://localhost:8080/"
        },
        "id": "eGCvWOFcWJnp",
        "outputId": "e88b0c78-c937-4b46-b737-e4c1a69a6973"
      },
      "source": [
        "prediction_NN = cnn_model.predict(spiral_test_data)\n",
        "prediction_NN = np.argmax(prediction_NN, axis=-1)\n",
        "prediction_NN"
      ],
      "execution_count": 13,
      "outputs": [
        {
          "output_type": "execute_result",
          "data": {
            "text/plain": [
              "array([0, 0, 1, 0, 0, 0, 0, 0, 0, 0, 0, 0, 1, 0, 1, 0, 1, 0, 1, 1, 1, 1,\n",
              "       1, 1, 1, 1, 1, 1, 1, 1])"
            ]
          },
          "metadata": {},
          "execution_count": 13
        }
      ]
    },
    {
      "cell_type": "code",
      "metadata": {
        "colab": {
          "base_uri": "https://localhost:8080/"
        },
        "id": "EeVL9yteWJpy",
        "outputId": "e8dbe61e-838a-4a62-c436-b5ab137a2420"
      },
      "source": [
        "from sklearn.metrics import accuracy_score,classification_report\n",
        "ans={}\n",
        "ans.update({'Model':'Accuracy'})\n",
        "\n",
        "score=accuracy_score(spiral_test_labels,prediction_NN)\n",
        "score\n",
        "\n",
        "ans.update({'CNN':score})\n",
        "print(classification_report(spiral_test_labels, prediction_NN))"
      ],
      "execution_count": 14,
      "outputs": [
        {
          "output_type": "stream",
          "name": "stdout",
          "text": [
            "              precision    recall  f1-score   support\n",
            "\n",
            "           0       0.86      0.80      0.83        15\n",
            "           1       0.81      0.87      0.84        15\n",
            "\n",
            "    accuracy                           0.83        30\n",
            "   macro avg       0.83      0.83      0.83        30\n",
            "weighted avg       0.83      0.83      0.83        30\n",
            "\n"
          ]
        }
      ]
    },
    {
      "cell_type": "code",
      "metadata": {
        "colab": {
          "base_uri": "https://localhost:8080/",
          "height": 295
        },
        "id": "4K2QB9bkWJ7l",
        "outputId": "2c34f625-1f8b-4290-d27e-b023d1d3541d"
      },
      "source": [
        "loss_train = history.history['accuracy']\n",
        "loss_val = history.history['val_accuracy']\n",
        "epochs = range(0,25)\n",
        "plt.plot(epochs, loss_train, 'g', label='Training accuracy')\n",
        "plt.plot(epochs, loss_val, 'b', label='validation accuracy')\n",
        "plt.title('Training and Validation accuracy')\n",
        "plt.xlabel('Epochs')\n",
        "plt.ylabel('Accuracy')\n",
        "plt.legend()\n",
        "plt.show()"
      ],
      "execution_count": 15,
      "outputs": [
        {
          "output_type": "display_data",
          "data": {
            "image/png": "[encoded data removed]",
            "text/plain": [
              "<Figure size 432x288 with 1 Axes>"
            ]
          },
          "metadata": {
            "needs_background": "light"
          }
        }
      ]
    },
    {
      "cell_type": "markdown",
      "metadata": {
        "id": "HI38niYeXIcH"
      },
      "source": [
        "## **Now we will add Random Forest to classify Spiral Images**"
      ]
    },
    {
      "cell_type": "code",
      "metadata": {
        "colab": {
          "base_uri": "https://localhost:8080/"
        },
        "id": "LpP2KFyjWGAM",
        "outputId": "a4781ba8-ab4f-468e-c8e8-2ae2ecb402ee"
      },
      "source": [
        "X_rf=spiral_extractor.predict(spiral_train_data)\n",
        "X_rf.shape"
      ],
      "execution_count": 16,
      "outputs": [
        {
          "output_type": "execute_result",
          "data": {
            "text/plain": [
              "(107, 53824)"
            ]
          },
          "metadata": {},
          "execution_count": 16
        }
      ]
    },
    {
      "cell_type": "code",
      "metadata": {
        "id": "NFIWImsoXP76"
      },
      "source": [
        "from sklearn.ensemble import RandomForestClassifier\n",
        "RF_model = RandomForestClassifier(n_estimators = 50, random_state = 42)"
      ],
      "execution_count": 17,
      "outputs": []
    },
    {
      "cell_type": "code",
      "metadata": {
        "colab": {
          "base_uri": "https://localhost:8080/"
        },
        "id": "NHCtsE77XRcv",
        "outputId": "b71fec4f-83f7-44e1-f149-738cae84485f"
      },
      "source": [
        "RF_model.fit(X_rf,spiral_train_labels)"
      ],
      "execution_count": 18,
      "outputs": [
        {
          "output_type": "execute_result",
          "data": {
            "text/plain": [
              "RandomForestClassifier(n_estimators=50, random_state=42)"
            ]
          },
          "metadata": {},
          "execution_count": 18
        }
      ]
    },
    {
      "cell_type": "code",
      "metadata": {
        "colab": {
          "base_uri": "https://localhost:8080/"
        },
        "id": "5Ly5l8G0XRfB",
        "outputId": "4f51be81-cef8-4bc6-c9b0-ed7135e5cdc2"
      },
      "source": [
        "xtest_features=spiral_extractor.predict(spiral_test_data)\n",
        "prediction=RF_model.predict(xtest_features)\n",
        "prediction"
      ],
      "execution_count": 19,
      "outputs": [
        {
          "output_type": "execute_result",
          "data": {
            "text/plain": [
              "array([1, 0, 0, 0, 0, 0, 0, 1, 0, 0, 0, 0, 1, 0, 1, 1, 0, 1, 1, 1, 0, 1,\n",
              "       1, 1, 1, 1, 1, 1, 1, 0])"
            ]
          },
          "metadata": {},
          "execution_count": 19
        }
      ]
    },
    {
      "cell_type": "code",
      "metadata": {
        "colab": {
          "base_uri": "https://localhost:8080/"
        },
        "id": "842jFQXsXRg5",
        "outputId": "5dc2f1d8-e7df-4b97-ac0a-47d6ca0e7926"
      },
      "source": [
        "score1=accuracy_score(spiral_test_labels,prediction)\n",
        "score1\n",
        "ans.update({'CNN+RF':score1})\n",
        "print(classification_report(spiral_test_labels, prediction))"
      ],
      "execution_count": 20,
      "outputs": [
        {
          "output_type": "stream",
          "name": "stdout",
          "text": [
            "              precision    recall  f1-score   support\n",
            "\n",
            "           0       0.79      0.73      0.76        15\n",
            "           1       0.75      0.80      0.77        15\n",
            "\n",
            "    accuracy                           0.77        30\n",
            "   macro avg       0.77      0.77      0.77        30\n",
            "weighted avg       0.77      0.77      0.77        30\n",
            "\n"
          ]
        }
      ]
    },
    {
      "cell_type": "markdown",
      "metadata": {
        "id": "HZYj_X0pXpAv"
      },
      "source": [
        "## **Comparison of both Models**"
      ]
    },
    {
      "cell_type": "code",
      "metadata": {
        "colab": {
          "base_uri": "https://localhost:8080/"
        },
        "id": "GgXTi_YxXRi3",
        "outputId": "10924946-0c57-45af-cbe1-ca7e7ecd93ae"
      },
      "source": [
        "for i in ans:\n",
        "  print(i,'\\t\\t',ans[i])"
      ],
      "execution_count": 21,
      "outputs": [
        {
          "output_type": "stream",
          "name": "stdout",
          "text": [
            "Model \t\t Accuracy\n",
            "CNN \t\t 0.8333333333333334\n",
            "CNN+RF \t\t 0.7666666666666667\n"
          ]
        }
      ]
    },
    {
      "cell_type": "markdown",
      "metadata": {
        "id": "Od_u1lCTXvlb"
      },
      "source": [
        "## **Wave Model**"
      ]
    },
    {
      "cell_type": "code",
      "metadata": {
        "id": "QELIcZiCXP_R"
      },
      "source": [
        "wave_extractor = Sequential([\n",
        "Conv2D(32, (3,3), activation = 'relu', input_shape = (128,128,3)),\n",
        "Conv2D(32, (3,3), activation = 'relu'),\n",
        "MaxPooling2D(pool_size=(2,2)),\n",
        "Conv2D(64,(3,3), activation = 'relu'),\n",
        "Conv2D(64, (3,3), activation = 'relu'),\n",
        "MaxPooling2D(pool_size=(2,2)),\n",
        "Flatten()\n",
        "])"
      ],
      "execution_count": 22,
      "outputs": []
    },
    {
      "cell_type": "code",
      "metadata": {
        "id": "LBZWQuH4Xx9M"
      },
      "source": [
        "x1 = wave_extractor.output  \n",
        "x1 = Dense(128, activation = 'relu', kernel_initializer = 'he_uniform')(x1)\n",
        "prediction_layer1 = Dense(2, activation = 'softmax')(x1)"
      ],
      "execution_count": 23,
      "outputs": []
    },
    {
      "cell_type": "code",
      "metadata": {
        "id": "V71zybdrXx_Q"
      },
      "source": [
        "cnn_model1 = Model(inputs=wave_extractor.input, outputs=prediction_layer1)\n",
        "cnn_model1.compile(optimizer='adam',loss = 'binary_crossentropy', metrics = ['accuracy'])"
      ],
      "execution_count": 24,
      "outputs": []
    },
    {
      "cell_type": "code",
      "metadata": {
        "colab": {
          "base_uri": "https://localhost:8080/"
        },
        "id": "JlkgAFwmXyBt",
        "outputId": "f4a8d520-9fd1-435d-de9d-5f82e7e25464"
      },
      "source": [
        "history1 = cnn_model1.fit(wave_train_data, wave_train_labels_one_hot, epochs=25, validation_data = (wave_test_data,wave_test_labels_one_hot))"
      ],
      "execution_count": 25,
      "outputs": [
        {
          "output_type": "stream",
          "name": "stdout",
          "text": [
            "Epoch 1/25\n",
            "4/4 [==============================] - 9s 2s/step - loss: 1.3298 - accuracy: 0.4836 - val_loss: 0.6952 - val_accuracy: 0.5000\n",
            "Epoch 2/25\n",
            "4/4 [==============================] - 8s 2s/step - loss: 0.7585 - accuracy: 0.4836 - val_loss: 0.6936 - val_accuracy: 0.5000\n",
            "Epoch 3/25\n",
            "4/4 [==============================] - 8s 2s/step - loss: 0.7026 - accuracy: 0.5082 - val_loss: 0.6945 - val_accuracy: 0.5000\n",
            "Epoch 4/25\n",
            "4/4 [==============================] - 8s 2s/step - loss: 0.6979 - accuracy: 0.5164 - val_loss: 0.6924 - val_accuracy: 0.5000\n",
            "Epoch 5/25\n",
            "4/4 [==============================] - 8s 2s/step - loss: 0.6935 - accuracy: 0.5000 - val_loss: 0.6921 - val_accuracy: 0.5000\n",
            "Epoch 6/25\n",
            "4/4 [==============================] - 8s 2s/step - loss: 0.6907 - accuracy: 0.5000 - val_loss: 0.6908 - val_accuracy: 0.6000\n",
            "Epoch 7/25\n",
            "4/4 [==============================] - 8s 2s/step - loss: 0.6934 - accuracy: 0.5082 - val_loss: 0.6901 - val_accuracy: 0.5000\n",
            "Epoch 8/25\n",
            "4/4 [==============================] - 8s 2s/step - loss: 0.6833 - accuracy: 0.5000 - val_loss: 0.6841 - val_accuracy: 0.7333\n",
            "Epoch 9/25\n",
            "4/4 [==============================] - 8s 2s/step - loss: 0.6746 - accuracy: 0.8115 - val_loss: 0.6762 - val_accuracy: 0.7000\n",
            "Epoch 10/25\n",
            "4/4 [==============================] - 8s 2s/step - loss: 0.6586 - accuracy: 0.6721 - val_loss: 0.6613 - val_accuracy: 0.7000\n",
            "Epoch 11/25\n",
            "4/4 [==============================] - 8s 2s/step - loss: 0.6254 - accuracy: 0.7787 - val_loss: 0.6406 - val_accuracy: 0.6667\n",
            "Epoch 12/25\n",
            "4/4 [==============================] - 8s 2s/step - loss: 0.6166 - accuracy: 0.7213 - val_loss: 0.6646 - val_accuracy: 0.5333\n",
            "Epoch 13/25\n",
            "4/4 [==============================] - 8s 2s/step - loss: 0.6283 - accuracy: 0.5902 - val_loss: 0.6378 - val_accuracy: 0.6000\n",
            "Epoch 14/25\n",
            "4/4 [==============================] - 8s 2s/step - loss: 0.5374 - accuracy: 0.7049 - val_loss: 0.5961 - val_accuracy: 0.7333\n",
            "Epoch 15/25\n",
            "4/4 [==============================] - 8s 2s/step - loss: 0.4321 - accuracy: 0.8197 - val_loss: 0.6604 - val_accuracy: 0.7667\n",
            "Epoch 16/25\n",
            "4/4 [==============================] - 8s 2s/step - loss: 0.3810 - accuracy: 0.8607 - val_loss: 0.7050 - val_accuracy: 0.7333\n",
            "Epoch 17/25\n",
            "4/4 [==============================] - 8s 2s/step - loss: 0.3362 - accuracy: 0.8607 - val_loss: 0.8118 - val_accuracy: 0.7000\n",
            "Epoch 18/25\n",
            "4/4 [==============================] - 8s 2s/step - loss: 0.2732 - accuracy: 0.9016 - val_loss: 0.8483 - val_accuracy: 0.7000\n",
            "Epoch 19/25\n",
            "4/4 [==============================] - 8s 2s/step - loss: 0.2343 - accuracy: 0.9016 - val_loss: 0.8840 - val_accuracy: 0.8000\n",
            "Epoch 20/25\n",
            "4/4 [==============================] - 8s 2s/step - loss: 0.1851 - accuracy: 0.9262 - val_loss: 1.0075 - val_accuracy: 0.8000\n",
            "Epoch 21/25\n",
            "4/4 [==============================] - 8s 2s/step - loss: 0.1299 - accuracy: 0.9508 - val_loss: 1.1800 - val_accuracy: 0.8000\n",
            "Epoch 22/25\n",
            "4/4 [==============================] - 8s 2s/step - loss: 0.1224 - accuracy: 0.9426 - val_loss: 1.1813 - val_accuracy: 0.8000\n",
            "Epoch 23/25\n",
            "4/4 [==============================] - 8s 2s/step - loss: 0.1811 - accuracy: 0.9426 - val_loss: 0.7513 - val_accuracy: 0.7333\n",
            "Epoch 24/25\n",
            "4/4 [==============================] - 8s 2s/step - loss: 0.2583 - accuracy: 0.9180 - val_loss: 2.1226 - val_accuracy: 0.7000\n",
            "Epoch 25/25\n",
            "4/4 [==============================] - 8s 2s/step - loss: 0.1789 - accuracy: 0.9344 - val_loss: 1.5881 - val_accuracy: 0.8000\n"
          ]
        }
      ]
    },
    {
      "cell_type": "code",
      "metadata": {
        "colab": {
          "base_uri": "https://localhost:8080/"
        },
        "id": "CuafZ1qdXyD2",
        "outputId": "43b82ed3-b395-48c8-ef56-6a716f47833e"
      },
      "source": [
        "prediction_NN1 = cnn_model1.predict(wave_test_data)\n",
        "prediction_NN1 = np.argmax(prediction_NN1, axis=-1)\n",
        "prediction_NN1"
      ],
      "execution_count": 26,
      "outputs": [
        {
          "output_type": "execute_result",
          "data": {
            "text/plain": [
              "array([0, 1, 0, 0, 0, 0, 1, 0, 1, 0, 0, 0, 0, 0, 0, 1, 1, 1, 0, 0, 0, 1,\n",
              "       1, 1, 1, 1, 1, 1, 1, 1])"
            ]
          },
          "metadata": {},
          "execution_count": 26
        }
      ]
    },
    {
      "cell_type": "code",
      "metadata": {
        "colab": {
          "base_uri": "https://localhost:8080/"
        },
        "id": "L5U4iijeXyFg",
        "outputId": "078f332b-6e6e-4e32-f38a-d291febe1be8"
      },
      "source": [
        "ans1={}\n",
        "ans1.update({'Model':'Accuracy'})\n",
        "\n",
        "sc=accuracy_score(wave_test_labels,prediction_NN1)\n",
        "sc\n",
        "\n",
        "ans1.update({'CNN':sc})\n",
        "print(classification_report(wave_test_labels, prediction_NN1))"
      ],
      "execution_count": 27,
      "outputs": [
        {
          "output_type": "stream",
          "name": "stdout",
          "text": [
            "              precision    recall  f1-score   support\n",
            "\n",
            "           0       0.80      0.80      0.80        15\n",
            "           1       0.80      0.80      0.80        15\n",
            "\n",
            "    accuracy                           0.80        30\n",
            "   macro avg       0.80      0.80      0.80        30\n",
            "weighted avg       0.80      0.80      0.80        30\n",
            "\n"
          ]
        }
      ]
    },
    {
      "cell_type": "code",
      "metadata": {
        "colab": {
          "base_uri": "https://localhost:8080/",
          "height": 295
        },
        "id": "3ZYnesdsX9Mr",
        "outputId": "6532b25e-2e60-457c-8954-ed280ce9c996"
      },
      "source": [
        "acc1 = history1.history['accuracy']\n",
        "val_acc1 = history1.history['val_accuracy']\n",
        "epochs = range(0,25)\n",
        "plt.plot(epochs, acc1, 'y', label='Training accuracy')\n",
        "plt.plot(epochs, val_acc1, 'r', label='Validation accuracy')\n",
        "plt.title('Training and validation accuracy')\n",
        "plt.xlabel('Epochs')\n",
        "plt.ylabel('Accuracy')\n",
        "plt.legend()\n",
        "plt.show()"
      ],
      "execution_count": 28,
      "outputs": [
        {
          "output_type": "display_data",
          "data": {
            "image/png": "[encoded data removed]",
            "text/plain": [
              "<Figure size 432x288 with 1 Axes>"
            ]
          },
          "metadata": {
            "needs_background": "light"
          }
        }
      ]
    },
    {
      "cell_type": "code",
      "metadata": {
        "colab": {
          "base_uri": "https://localhost:8080/"
        },
        "id": "eofHYorvX9O4",
        "outputId": "960ef5c6-ce31-4797-8936-33b031ba9c95"
      },
      "source": [
        "X_rf=wave_extractor.predict(wave_train_data)\n",
        "X_rf.shape"
      ],
      "execution_count": 29,
      "outputs": [
        {
          "output_type": "execute_result",
          "data": {
            "text/plain": [
              "(122, 53824)"
            ]
          },
          "metadata": {},
          "execution_count": 29
        }
      ]
    },
    {
      "cell_type": "code",
      "metadata": {
        "id": "k9oWSzIMX9RQ"
      },
      "source": [
        "from sklearn.ensemble import RandomForestClassifier\n",
        "RF_model = RandomForestClassifier(n_estimators = 50, random_state = 42)"
      ],
      "execution_count": 30,
      "outputs": []
    },
    {
      "cell_type": "code",
      "metadata": {
        "colab": {
          "base_uri": "https://localhost:8080/"
        },
        "id": "ShJdNYk8X9TZ",
        "outputId": "127b416c-d62f-4ed4-c460-79bf849278ec"
      },
      "source": [
        "RF_model.fit(X_rf,wave_train_labels)"
      ],
      "execution_count": 31,
      "outputs": [
        {
          "output_type": "execute_result",
          "data": {
            "text/plain": [
              "RandomForestClassifier(n_estimators=50, random_state=42)"
            ]
          },
          "metadata": {},
          "execution_count": 31
        }
      ]
    },
    {
      "cell_type": "code",
      "metadata": {
        "colab": {
          "base_uri": "https://localhost:8080/"
        },
        "id": "Aly5zpt4X9Vu",
        "outputId": "f44cc2a4-3ed3-475e-bec5-54b6c98038c5"
      },
      "source": [
        "xtest_features=wave_extractor.predict(wave_test_data)\n",
        "prediction=RF_model.predict(xtest_features)\n",
        "prediction"
      ],
      "execution_count": 32,
      "outputs": [
        {
          "output_type": "execute_result",
          "data": {
            "text/plain": [
              "array([0, 1, 0, 0, 1, 0, 1, 1, 1, 0, 0, 0, 1, 0, 1, 1, 1, 1, 0, 0, 0, 1,\n",
              "       1, 1, 1, 1, 1, 1, 1, 1])"
            ]
          },
          "metadata": {},
          "execution_count": 32
        }
      ]
    },
    {
      "cell_type": "code",
      "metadata": {
        "colab": {
          "base_uri": "https://localhost:8080/"
        },
        "id": "t_p24ObcYDjV",
        "outputId": "334facee-1580-476b-cc6e-145920f5ad12"
      },
      "source": [
        "score1=accuracy_score(wave_test_labels,prediction)\n",
        "score1\n",
        "ans.update({'CNN+RF':score1})\n",
        "print(classification_report(wave_test_labels, prediction))"
      ],
      "execution_count": 33,
      "outputs": [
        {
          "output_type": "stream",
          "name": "stdout",
          "text": [
            "              precision    recall  f1-score   support\n",
            "\n",
            "           0       0.73      0.53      0.62        15\n",
            "           1       0.63      0.80      0.71        15\n",
            "\n",
            "    accuracy                           0.67        30\n",
            "   macro avg       0.68      0.67      0.66        30\n",
            "weighted avg       0.68      0.67      0.66        30\n",
            "\n"
          ]
        }
      ]
    },
    {
      "cell_type": "markdown",
      "metadata": {
        "id": "xewRM8uWYHE2"
      },
      "source": [
        "## **Comparison Of models**"
      ]
    },
    {
      "cell_type": "code",
      "metadata": {
        "colab": {
          "base_uri": "https://localhost:8080/"
        },
        "id": "fi6RufClYDll",
        "outputId": "f6ea39c8-f4da-4d70-db1f-0c13d62002c1"
      },
      "source": [
        "for i in ans:\n",
        "  print(i,'\\t\\t',ans[i])"
      ],
      "execution_count": 34,
      "outputs": [
        {
          "output_type": "stream",
          "name": "stdout",
          "text": [
            "Model \t\t Accuracy\n",
            "CNN \t\t 0.8333333333333334\n",
            "CNN+RF \t\t 0.6666666666666666\n"
          ]
        }
      ]
    },
    {
      "cell_type": "code",
      "metadata": {
        "id": "Q7nX3ubOYDpW"
      },
      "source": [
        ""
      ],
      "execution_count": 34,
      "outputs": []
    },
    {
      "cell_type": "code",
      "metadata": {
        "id": "VzJNvPmKYDrm"
      },
      "source": [
        ""
      ],
      "execution_count": 34,
      "outputs": []
    }
  ]
}